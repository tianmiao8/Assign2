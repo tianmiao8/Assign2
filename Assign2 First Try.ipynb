{
 "cells": [
  {
   "cell_type": "code",
   "execution_count": null,
   "metadata": {
    "collapsed": true
   },
   "outputs": [],
   "source": [
    "#Problem 1 Tax\n",
    "orderamount=input(\"What is the order amount?\")\n",
    "state=input(\"What is the state?\")\n",
    "tax=float(orderamouont)*0.055\n",
    "if state==\"WI\":\n",
    "    Print(\"WI\")\n",
    "    Print(\"Subtotal is $\"+ str((float(orderamount)+tax)))\n",
    "      else print(\"Sibtotal is $\"+str(orderamount))\n"
   ]
  },
  {
   "cell_type": "code",
   "execution_count": null,
   "metadata": {
    "collapsed": true
   },
   "outputs": [],
   "source": [
    "#Problem 2 Password\n",
    "password=input(\"What is the password?\")\n",
    "if password==\"abc&123\":\n",
    "    print(\"Welcome\")\n",
    "    else:\n",
    "    print(\"I don't know you.\")"
   ]
  },
  {
   "cell_type": "code",
   "execution_count": null,
   "metadata": {
    "collapsed": true
   },
   "outputs": [],
   "source": [
    "#Problem 3 Legal age to drive\n",
    "yourage=input(\"What is your age?\")\n",
    "if yourage<16 print(\"You are not old enough to legally drive.\")\n",
    "elif yourage>=16 print(\"You are old enough to legally drive.\")"
   ]
  },
  {
   "cell_type": "code",
   "execution_count": null,
   "metadata": {
    "collapsed": true
   },
   "outputs": [],
   "source": [
    "#Problem 4 BAC\n",
    "A=input\"Enter total alcohol consumed, in ounces (oz)?\"\n",
    "float(A)\n",
    "W=input\"Enter body weight in pounds\"\n",
    "float(W)\n",
    "if gender==\"men\":\n",
    "    r=0.73\n",
    "elif gender==\"women\":\n",
    "    r=0.66\n",
    "H==input\"Enter number of hours since the last drink\"\n",
    "BAC=(A*5.14/W*r)-0.015*H\n",
    "print(BAC)\n",
    "if BAC>=0.08:\n",
    "    (\"It is not legal fro you to drive.\") \n",
    "    else\n",
    "    "
   ]
  },
  {
   "cell_type": "code",
   "execution_count": null,
   "metadata": {
    "collapsed": true
   },
   "outputs": [],
   "source": [
    "#Problem 5 Temperatures conversion\n",
    "print(\"Press C to convert from Fahrenheit to Celsius.\")\n",
    "print(\"Press F to convert from Celsius to Fahrenheit.\")\n",
    "C=(F-32)*5/9\n",
    "F=(C*9/5)+32\n",
    "choice=input(\"Your choice: \")\n",
    "print(choice)\n",
    "if choice=\"C\":\n",
    "    FC=input(\"Please enter the temperature in Fahrenheit: \")\n",
    "    F=print(F)\n",
    "    print(\"The temperature in Celsius is \" + float(C))\n",
    "if choice=\"F\":\n",
    "    CF=input(\"Please enter the temperature in Celsius: \")\n",
    "    C=print(C)\n",
    "    print(\"The temperature in Fahrenheit is \" + float(F))\n",
    "    \n",
    "    "
   ]
  },
  {
   "cell_type": "code",
   "execution_count": null,
   "metadata": {
    "collapsed": true
   },
   "outputs": [],
   "source": [
    "#Problem 6 BMI Calculation\n",
    "height=input\"How tall are you? \"\n",
    "weight=input\"How much do you weight? \"\n",
    "bmi=(weight/(height*height))*703)\n",
    "print(\"Your BMI is \"+str(bmi))\n",
    "if 18.5<=bmi<=25:\n",
    "    print(\"You are within the ideal weight range.\")\n",
    "    elif bmi<18.5: \n",
    "    print(\"You are underweight. You should see your doctor.\")\n",
    "    elif bmi>25\n",
    "    print(\"You are overweight. You should see your doctor.\")\n",
    "pass\n"
   ]
  },
  {
   "cell_type": "code",
   "execution_count": null,
   "metadata": {
    "collapsed": true
   },
   "outputs": [],
   "source": [
    "#Problem 7 Tax Calculation\n",
    "orderamt=input(\"What is the order amount? \")\n",
    "print(orderamt)\n",
    "\n",
    "state=input(\"What state do you live in? \")\n",
    "print(state)\n",
    "county=input(\"Which county do you live in? \")\n",
    "print(county)\n",
    "if state==\"Winconsin\" and county==\"Eau Claire\":\n",
    "    tax=orderamt*0.055\n",
    "    print(\"The tax is $\"+str(tax))\n",
    "elif state=\"Winsconsin\" and county==\"Dunn\":\n",
    "    tax=orderamt*0.054\n",
    "    print(\"The tax is $\"+str(tax))\n",
    "elif state=\"Winsconsin\" and county!=\"Eau Claire\" or county!=\"Dunn\"\n",
    "    tax=orderamt*0.05\n",
    "    print(\"The tax is $\"+str(tax))\n",
    "else tax=0 \n",
    "    print(\"The tax is $\"+str(tax))\n"
   ]
  },
  {
   "cell_type": "code",
   "execution_count": null,
   "metadata": {
    "collapsed": true
   },
   "outputs": [],
   "source": [
    "#Problem 8 Name of Month\n",
    "def enteredMonth():\n",
    "    month = int(input(\"Enter a month in terms of a number: \"))\n",
    "    return month\n",
    "\n",
    "def numberOfDays(month):\n",
    "    if enteredMonth() == 1:\n",
    "        month = \"January\"\n",
    "        print (\"The name of the month is \" +month)\n",
    "    elif enteredMonth() == 2 \n",
    "        month = \"February\"\n",
    "        print (\"The name of the month is \" +month)\n",
    "    elif enteredMonth() == 3:\n",
    "        month = \"March\"\n",
    "        print (\"The name of the month is \" +month)\n",
    "    elif enteredMonth() == 4:\n",
    "        month = \"April\"\n",
    "        print (\"The name of the month is \" +month)\n",
    "    elif enteredMonth() == 5:\n",
    "        month = \"May\"\n",
    "        print (\"The name of the month is \" +month)\n",
    "    elif enteredMonth() == 6:\n",
    "        month = \"June\"\n",
    "        print (\"The name of the month is \" +month)\n",
    "    elif enteredMonth() == 7:\n",
    "        month = \"July\"\n",
    "        print (\"The name of the month is \" +month)\n",
    "    elif enteredMonth() == 8:\n",
    "        month = \"August\"\n",
    "        print (\"The name of the month is \" +month)\n",
    "    elif enteredMonth() == 9:\n",
    "        month = \"September\"\n",
    "        print (\"The name of the month is \" +month)\n",
    "    elif enteredMonth() == 10:\n",
    "        month = \"October\"\n",
    "        print (\"The name of the month is \" +month)\n",
    "    elif enteredMonth() == 11:\n",
    "        month = \"November\"\n",
    "        print (\"The name of the month is \" +month)\n",
    "    elif enteredMonth() == 12:\n",
    "        month = \"December\"\n",
    "        print (\"The name of the month is \" +month)\n",
    "    else:\n",
    "        print(\"Please enter a valid month\")\n"
   ]
  },
  {
   "cell_type": "code",
   "execution_count": null,
   "metadata": {
    "collapsed": true
   },
   "outputs": [],
   "source": [
    "#Problem 9 Two Anagrams\n"
   ]
  }
 ],
 "metadata": {
  "anaconda-cloud": {},
  "kernelspec": {
   "display_name": "Python [conda root]",
   "language": "python",
   "name": "conda-root-py"
  },
  "language_info": {
   "codemirror_mode": {
    "name": "ipython",
    "version": 3
   },
   "file_extension": ".py",
   "mimetype": "text/x-python",
   "name": "python",
   "nbconvert_exporter": "python",
   "pygments_lexer": "ipython3",
   "version": "3.5.2"
  }
 },
 "nbformat": 4,
 "nbformat_minor": 1
}
